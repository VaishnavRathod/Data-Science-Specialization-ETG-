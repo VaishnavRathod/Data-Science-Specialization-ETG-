{
 "cells": [
  {
   "cell_type": "markdown",
   "id": "0ffbe034",
   "metadata": {},
   "source": [
    "# Data Analysis - COVID"
   ]
  },
  {
   "cell_type": "markdown",
   "id": "ec0e79e5",
   "metadata": {},
   "source": [
    "## Project 1"
   ]
  },
  {
   "cell_type": "code",
   "execution_count": 2,
   "id": "a55bbb34",
   "metadata": {},
   "outputs": [],
   "source": [
    "# Importing libraries\n",
    "import numpy as np\n",
    "import pandas as pd\n"
   ]
  },
  {
   "cell_type": "code",
   "execution_count": 3,
   "id": "3badc927",
   "metadata": {},
   "outputs": [
    {
     "data": {
      "text/html": [
       "<div>\n",
       "<style scoped>\n",
       "    .dataframe tbody tr th:only-of-type {\n",
       "        vertical-align: middle;\n",
       "    }\n",
       "\n",
       "    .dataframe tbody tr th {\n",
       "        vertical-align: top;\n",
       "    }\n",
       "\n",
       "    .dataframe thead th {\n",
       "        text-align: right;\n",
       "    }\n",
       "</style>\n",
       "<table border=\"1\" class=\"dataframe\">\n",
       "  <thead>\n",
       "    <tr style=\"text-align: right;\">\n",
       "      <th></th>\n",
       "      <th>Country/Region</th>\n",
       "      <th>Confirmed</th>\n",
       "      <th>Deaths</th>\n",
       "      <th>Recovered</th>\n",
       "      <th>Active</th>\n",
       "      <th>New cases</th>\n",
       "      <th>New deaths</th>\n",
       "      <th>New recovered</th>\n",
       "      <th>Deaths / 100 Cases</th>\n",
       "      <th>Recovered / 100 Cases</th>\n",
       "      <th>Deaths / 100 Recovered</th>\n",
       "      <th>Confirmed last week</th>\n",
       "      <th>1 week change</th>\n",
       "      <th>1 week % increase</th>\n",
       "      <th>WHO Region</th>\n",
       "    </tr>\n",
       "  </thead>\n",
       "  <tbody>\n",
       "    <tr>\n",
       "      <th>0</th>\n",
       "      <td>Afghanistan</td>\n",
       "      <td>36263</td>\n",
       "      <td>1269</td>\n",
       "      <td>25198</td>\n",
       "      <td>9796</td>\n",
       "      <td>106</td>\n",
       "      <td>10</td>\n",
       "      <td>18</td>\n",
       "      <td>3.50</td>\n",
       "      <td>69.49</td>\n",
       "      <td>5.04</td>\n",
       "      <td>35526</td>\n",
       "      <td>737</td>\n",
       "      <td>2.07</td>\n",
       "      <td>Eastern Mediterranean</td>\n",
       "    </tr>\n",
       "    <tr>\n",
       "      <th>1</th>\n",
       "      <td>Albania</td>\n",
       "      <td>4880</td>\n",
       "      <td>144</td>\n",
       "      <td>2745</td>\n",
       "      <td>1991</td>\n",
       "      <td>117</td>\n",
       "      <td>6</td>\n",
       "      <td>63</td>\n",
       "      <td>2.95</td>\n",
       "      <td>56.25</td>\n",
       "      <td>5.25</td>\n",
       "      <td>4171</td>\n",
       "      <td>709</td>\n",
       "      <td>17.00</td>\n",
       "      <td>Europe</td>\n",
       "    </tr>\n",
       "    <tr>\n",
       "      <th>2</th>\n",
       "      <td>Algeria</td>\n",
       "      <td>27973</td>\n",
       "      <td>1163</td>\n",
       "      <td>18837</td>\n",
       "      <td>7973</td>\n",
       "      <td>616</td>\n",
       "      <td>8</td>\n",
       "      <td>749</td>\n",
       "      <td>4.16</td>\n",
       "      <td>67.34</td>\n",
       "      <td>6.17</td>\n",
       "      <td>23691</td>\n",
       "      <td>4282</td>\n",
       "      <td>18.07</td>\n",
       "      <td>Africa</td>\n",
       "    </tr>\n",
       "    <tr>\n",
       "      <th>3</th>\n",
       "      <td>Andorra</td>\n",
       "      <td>907</td>\n",
       "      <td>52</td>\n",
       "      <td>803</td>\n",
       "      <td>52</td>\n",
       "      <td>10</td>\n",
       "      <td>0</td>\n",
       "      <td>0</td>\n",
       "      <td>5.73</td>\n",
       "      <td>88.53</td>\n",
       "      <td>6.48</td>\n",
       "      <td>884</td>\n",
       "      <td>23</td>\n",
       "      <td>2.60</td>\n",
       "      <td>Europe</td>\n",
       "    </tr>\n",
       "    <tr>\n",
       "      <th>4</th>\n",
       "      <td>Angola</td>\n",
       "      <td>950</td>\n",
       "      <td>41</td>\n",
       "      <td>242</td>\n",
       "      <td>667</td>\n",
       "      <td>18</td>\n",
       "      <td>1</td>\n",
       "      <td>0</td>\n",
       "      <td>4.32</td>\n",
       "      <td>25.47</td>\n",
       "      <td>16.94</td>\n",
       "      <td>749</td>\n",
       "      <td>201</td>\n",
       "      <td>26.84</td>\n",
       "      <td>Africa</td>\n",
       "    </tr>\n",
       "  </tbody>\n",
       "</table>\n",
       "</div>"
      ],
      "text/plain": [
       "  Country/Region  Confirmed  Deaths  Recovered  Active  New cases  New deaths  \\\n",
       "0    Afghanistan      36263    1269      25198    9796        106          10   \n",
       "1        Albania       4880     144       2745    1991        117           6   \n",
       "2        Algeria      27973    1163      18837    7973        616           8   \n",
       "3        Andorra        907      52        803      52         10           0   \n",
       "4         Angola        950      41        242     667         18           1   \n",
       "\n",
       "   New recovered  Deaths / 100 Cases  Recovered / 100 Cases  \\\n",
       "0             18                3.50                  69.49   \n",
       "1             63                2.95                  56.25   \n",
       "2            749                4.16                  67.34   \n",
       "3              0                5.73                  88.53   \n",
       "4              0                4.32                  25.47   \n",
       "\n",
       "   Deaths / 100 Recovered  Confirmed last week  1 week change  \\\n",
       "0                    5.04                35526            737   \n",
       "1                    5.25                 4171            709   \n",
       "2                    6.17                23691           4282   \n",
       "3                    6.48                  884             23   \n",
       "4                   16.94                  749            201   \n",
       "\n",
       "   1 week % increase             WHO Region  \n",
       "0               2.07  Eastern Mediterranean  \n",
       "1              17.00                 Europe  \n",
       "2              18.07                 Africa  \n",
       "3               2.60                 Europe  \n",
       "4              26.84                 Africa  "
      ]
     },
     "execution_count": 3,
     "metadata": {},
     "output_type": "execute_result"
    }
   ],
   "source": [
    "# Importing dataset\n",
    "\n",
    "df = pd.read_csv(\"country_wise_latest.csv\")\n",
    "df.head()"
   ]
  },
  {
   "cell_type": "markdown",
   "id": "d0127a32",
   "metadata": {},
   "source": [
    "### Q1 Find the number of unique countries."
   ]
  },
  {
   "cell_type": "code",
   "execution_count": 4,
   "id": "ac81aa71",
   "metadata": {},
   "outputs": [
    {
     "name": "stdout",
     "output_type": "stream",
     "text": [
      "The number of unique countries are:  187\n"
     ]
    }
   ],
   "source": [
    "countries = list(df[\"Country/Region\"].unique())\n",
    "print(\"The number of unique countries are: \", len(countries))"
   ]
  },
  {
   "cell_type": "markdown",
   "id": "a20d8178",
   "metadata": {},
   "source": [
    "### Q2 Check the null values in the dataset."
   ]
  },
  {
   "cell_type": "code",
   "execution_count": 5,
   "id": "2e7cc1a8",
   "metadata": {},
   "outputs": [
    {
     "data": {
      "text/plain": [
       "Country/Region            0\n",
       "Confirmed                 0\n",
       "Deaths                    0\n",
       "Recovered                 0\n",
       "Active                    0\n",
       "New cases                 0\n",
       "New deaths                0\n",
       "New recovered             0\n",
       "Deaths / 100 Cases        0\n",
       "Recovered / 100 Cases     0\n",
       "Deaths / 100 Recovered    0\n",
       "Confirmed last week       0\n",
       "1 week change             0\n",
       "1 week % increase         0\n",
       "WHO Region                0\n",
       "dtype: int64"
      ]
     },
     "execution_count": 5,
     "metadata": {},
     "output_type": "execute_result"
    }
   ],
   "source": [
    "df.isnull().sum()"
   ]
  },
  {
   "cell_type": "markdown",
   "id": "8e66833c",
   "metadata": {},
   "source": [
    "## Project 2"
   ]
  },
  {
   "cell_type": "markdown",
   "id": "3b654caf",
   "metadata": {},
   "source": [
    "### Q1 Which  country is having maximum confirmed cases? "
   ]
  },
  {
   "cell_type": "code",
   "execution_count": 6,
   "id": "0f098dd9",
   "metadata": {},
   "outputs": [],
   "source": [
    "country = df.sort_values(by=\"Confirmed\", ascending=False).head(1).values[0][0]\n",
    "cases = df.sort_values(by=\"Confirmed\", ascending=False).head(1).values[0][1]"
   ]
  },
  {
   "cell_type": "code",
   "execution_count": 7,
   "id": "3da1b85a",
   "metadata": {},
   "outputs": [
    {
     "name": "stdout",
     "output_type": "stream",
     "text": [
      "The country which has maximum confirmed cases is US with 4290259 number of cases.\n"
     ]
    }
   ],
   "source": [
    "print(\"The country which has maximum confirmed cases is\", country, \"with\", cases, \"number of cases.\")"
   ]
  },
  {
   "cell_type": "markdown",
   "id": "8d79a8bb",
   "metadata": {},
   "source": [
    "### Q2 Which country is having maximum number of deaths?"
   ]
  },
  {
   "cell_type": "code",
   "execution_count": 8,
   "id": "5e8da91d",
   "metadata": {},
   "outputs": [],
   "source": [
    "country_d = df.sort_values(by=\"Deaths\", ascending=False).head(1).values[0][0]\n",
    "deaths = df.sort_values(by=\"Deaths\", ascending=False).head(1).values[0][2]"
   ]
  },
  {
   "cell_type": "code",
   "execution_count": 9,
   "id": "65c97777",
   "metadata": {},
   "outputs": [
    {
     "name": "stdout",
     "output_type": "stream",
     "text": [
      "The country which has maximum deaths is US with 148011 number of deaths.\n"
     ]
    }
   ],
   "source": [
    "print(\"The country which has maximum deaths is\", country_d, \"with\", deaths, \"number of deaths.\")"
   ]
  },
  {
   "cell_type": "markdown",
   "id": "02074e6d",
   "metadata": {},
   "source": [
    "## Project 3"
   ]
  },
  {
   "cell_type": "markdown",
   "id": "7c4f9610",
   "metadata": {},
   "source": [
    "### Q1 What are the average cases in a country?"
   ]
  },
  {
   "cell_type": "code",
   "execution_count": 10,
   "id": "5031306e",
   "metadata": {},
   "outputs": [
    {
     "name": "stdout",
     "output_type": "stream",
     "text": [
      "The average cases in a country are: \n",
      "Afghanistan  ------  36263\n",
      "Albania  ------  4880\n",
      "Algeria  ------  27973\n",
      "Andorra  ------  907\n",
      "Angola  ------  950\n",
      "Antigua and Barbuda  ------  86\n",
      "Argentina  ------  167416\n",
      "Armenia  ------  37390\n",
      "Australia  ------  15303\n",
      "Austria  ------  20558\n",
      "Azerbaijan  ------  30446\n",
      "Bahamas  ------  382\n",
      "Bahrain  ------  39482\n",
      "Bangladesh  ------  226225\n",
      "Barbados  ------  110\n",
      "Belarus  ------  67251\n",
      "Belgium  ------  66428\n",
      "Belize  ------  48\n",
      "Benin  ------  1770\n",
      "Bhutan  ------  99\n",
      "Bolivia  ------  71181\n",
      "Bosnia and Herzegovina  ------  10498\n",
      "Botswana  ------  739\n",
      "Brazil  ------  2442375\n",
      "Brunei  ------  141\n",
      "Bulgaria  ------  10621\n",
      "Burkina Faso  ------  1100\n",
      "Burma  ------  350\n",
      "Burundi  ------  378\n",
      "Cabo Verde  ------  2328\n",
      "Cambodia  ------  226\n",
      "Cameroon  ------  17110\n",
      "Canada  ------  116458\n",
      "Central African Republic  ------  4599\n",
      "Chad  ------  922\n",
      "Chile  ------  347923\n",
      "China  ------  86783\n",
      "Colombia  ------  257101\n",
      "Comoros  ------  354\n",
      "Congo (Brazzaville)  ------  3200\n",
      "Congo (Kinshasa)  ------  8844\n",
      "Costa Rica  ------  15841\n",
      "Cote d'Ivoire  ------  15655\n",
      "Croatia  ------  4881\n",
      "Cuba  ------  2532\n",
      "Cyprus  ------  1060\n",
      "Czechia  ------  15516\n",
      "Denmark  ------  13761\n",
      "Djibouti  ------  5059\n",
      "Dominica  ------  18\n",
      "Dominican Republic  ------  64156\n",
      "Ecuador  ------  81161\n",
      "Egypt  ------  92482\n",
      "El Salvador  ------  15035\n",
      "Equatorial Guinea  ------  3071\n",
      "Eritrea  ------  265\n",
      "Estonia  ------  2034\n",
      "Eswatini  ------  2316\n",
      "Ethiopia  ------  14547\n",
      "Fiji  ------  27\n",
      "Finland  ------  7398\n",
      "France  ------  220352\n",
      "Gabon  ------  7189\n",
      "Gambia  ------  326\n",
      "Georgia  ------  1137\n",
      "Germany  ------  207112\n",
      "Ghana  ------  33624\n",
      "Greece  ------  4227\n",
      "Greenland  ------  14\n",
      "Grenada  ------  23\n",
      "Guatemala  ------  45309\n",
      "Guinea  ------  7055\n",
      "Guinea-Bissau  ------  1954\n",
      "Guyana  ------  389\n",
      "Haiti  ------  7340\n",
      "Holy See  ------  12\n",
      "Honduras  ------  39741\n",
      "Hungary  ------  4448\n",
      "Iceland  ------  1854\n",
      "India  ------  1480073\n",
      "Indonesia  ------  100303\n",
      "Iran  ------  293606\n",
      "Iraq  ------  112585\n",
      "Ireland  ------  25892\n",
      "Israel  ------  63985\n",
      "Italy  ------  246286\n",
      "Jamaica  ------  853\n",
      "Japan  ------  31142\n",
      "Jordan  ------  1176\n",
      "Kazakhstan  ------  84648\n",
      "Kenya  ------  17975\n",
      "Kosovo  ------  7413\n",
      "Kuwait  ------  64379\n",
      "Kyrgyzstan  ------  33296\n",
      "Laos  ------  20\n",
      "Latvia  ------  1219\n",
      "Lebanon  ------  3882\n",
      "Lesotho  ------  505\n",
      "Liberia  ------  1167\n",
      "Libya  ------  2827\n",
      "Liechtenstein  ------  86\n",
      "Lithuania  ------  2019\n",
      "Luxembourg  ------  6321\n",
      "Madagascar  ------  9690\n",
      "Malawi  ------  3664\n",
      "Malaysia  ------  8904\n",
      "Maldives  ------  3369\n",
      "Mali  ------  2513\n",
      "Malta  ------  701\n",
      "Mauritania  ------  6208\n",
      "Mauritius  ------  344\n",
      "Mexico  ------  395489\n",
      "Moldova  ------  23154\n",
      "Monaco  ------  116\n",
      "Mongolia  ------  289\n",
      "Montenegro  ------  2893\n",
      "Morocco  ------  20887\n",
      "Mozambique  ------  1701\n",
      "Namibia  ------  1843\n",
      "Nepal  ------  18752\n",
      "Netherlands  ------  53413\n",
      "New Zealand  ------  1557\n",
      "Nicaragua  ------  3439\n",
      "Niger  ------  1132\n",
      "Nigeria  ------  41180\n",
      "North Macedonia  ------  10213\n",
      "Norway  ------  9132\n",
      "Oman  ------  77058\n",
      "Pakistan  ------  274289\n",
      "Panama  ------  61442\n",
      "Papua New Guinea  ------  62\n",
      "Paraguay  ------  4548\n",
      "Peru  ------  389717\n",
      "Philippines  ------  82040\n",
      "Poland  ------  43402\n",
      "Portugal  ------  50299\n",
      "Qatar  ------  109597\n",
      "Romania  ------  45902\n",
      "Russia  ------  816680\n",
      "Rwanda  ------  1879\n",
      "Saint Kitts and Nevis  ------  17\n",
      "Saint Lucia  ------  24\n",
      "Saint Vincent and the Grenadines  ------  52\n",
      "San Marino  ------  699\n",
      "Sao Tome and Principe  ------  865\n",
      "Saudi Arabia  ------  268934\n",
      "Senegal  ------  9764\n",
      "Serbia  ------  24141\n",
      "Seychelles  ------  114\n",
      "Sierra Leone  ------  1783\n",
      "Singapore  ------  50838\n",
      "Slovakia  ------  2181\n",
      "Slovenia  ------  2087\n",
      "Somalia  ------  3196\n",
      "South Africa  ------  452529\n",
      "South Korea  ------  14203\n",
      "South Sudan  ------  2305\n",
      "Spain  ------  272421\n",
      "Sri Lanka  ------  2805\n",
      "Sudan  ------  11424\n",
      "Suriname  ------  1483\n",
      "Sweden  ------  79395\n",
      "Switzerland  ------  34477\n",
      "Syria  ------  674\n",
      "Taiwan*  ------  462\n",
      "Tajikistan  ------  7235\n",
      "Tanzania  ------  509\n",
      "Thailand  ------  3297\n",
      "Timor-Leste  ------  24\n",
      "Togo  ------  874\n",
      "Trinidad and Tobago  ------  148\n",
      "Tunisia  ------  1455\n",
      "Turkey  ------  227019\n",
      "US  ------  4290259\n",
      "Uganda  ------  1128\n",
      "Ukraine  ------  67096\n",
      "United Arab Emirates  ------  59177\n",
      "United Kingdom  ------  301708\n",
      "Uruguay  ------  1202\n",
      "Uzbekistan  ------  21209\n",
      "Venezuela  ------  15988\n",
      "Vietnam  ------  431\n",
      "West Bank and Gaza  ------  10621\n",
      "Western Sahara  ------  10\n",
      "Yemen  ------  1691\n",
      "Zambia  ------  4552\n",
      "Zimbabwe  ------  2704\n"
     ]
    }
   ],
   "source": [
    "print(\"The average cases in a country are: \")\n",
    "for i in range(len(df[\"Country/Region\"])):\n",
    "    print(df[\"Country/Region\"][i], \" ------ \", df[\"Confirmed\"][i])"
   ]
  },
  {
   "cell_type": "markdown",
   "id": "208b5918",
   "metadata": {},
   "source": [
    "### Q2 What is the total number of deaths as per the datasets?"
   ]
  },
  {
   "cell_type": "code",
   "execution_count": 11,
   "id": "0c5160be",
   "metadata": {},
   "outputs": [
    {
     "name": "stdout",
     "output_type": "stream",
     "text": [
      "The total number of deaths as per the datasets is: 654036\n"
     ]
    }
   ],
   "source": [
    "print(\"The total number of deaths as per the datasets is:\", df['Deaths'].sum())"
   ]
  },
  {
   "cell_type": "markdown",
   "id": "8c45076a",
   "metadata": {},
   "source": [
    "### Q3 What is the total number of confirmed cases?"
   ]
  },
  {
   "cell_type": "code",
   "execution_count": 12,
   "id": "5b02895f",
   "metadata": {},
   "outputs": [
    {
     "name": "stdout",
     "output_type": "stream",
     "text": [
      "The total number of confirmed cases as per the datasets is: 16480485\n"
     ]
    }
   ],
   "source": [
    "print(\"The total number of confirmed cases as per the datasets is:\", df['Confirmed'].sum())"
   ]
  },
  {
   "cell_type": "markdown",
   "id": "dbf02803",
   "metadata": {},
   "source": [
    "## Project 4 "
   ]
  },
  {
   "cell_type": "markdown",
   "id": "d5b5ec6d",
   "metadata": {},
   "source": [
    "### Q1 Deal with the null values and fill null values with 0."
   ]
  },
  {
   "cell_type": "code",
   "execution_count": 13,
   "id": "c4c127fc",
   "metadata": {},
   "outputs": [
    {
     "data": {
      "text/plain": [
       "Country/Region            0\n",
       "Confirmed                 0\n",
       "Deaths                    0\n",
       "Recovered                 0\n",
       "Active                    0\n",
       "New cases                 0\n",
       "New deaths                0\n",
       "New recovered             0\n",
       "Deaths / 100 Cases        0\n",
       "Recovered / 100 Cases     0\n",
       "Deaths / 100 Recovered    0\n",
       "Confirmed last week       0\n",
       "1 week change             0\n",
       "1 week % increase         0\n",
       "WHO Region                0\n",
       "dtype: int64"
      ]
     },
     "execution_count": 13,
     "metadata": {},
     "output_type": "execute_result"
    }
   ],
   "source": [
    "df.isnull().sum() # As there are no null values so we can proceed further"
   ]
  },
  {
   "cell_type": "code",
   "execution_count": null,
   "id": "991c189c",
   "metadata": {},
   "outputs": [],
   "source": []
  },
  {
   "cell_type": "code",
   "execution_count": null,
   "id": "c6972a94",
   "metadata": {},
   "outputs": [],
   "source": []
  }
 ],
 "metadata": {
  "kernelspec": {
   "display_name": "Python 3 (ipykernel)",
   "language": "python",
   "name": "python3"
  },
  "language_info": {
   "codemirror_mode": {
    "name": "ipython",
    "version": 3
   },
   "file_extension": ".py",
   "mimetype": "text/x-python",
   "name": "python",
   "nbconvert_exporter": "python",
   "pygments_lexer": "ipython3",
   "version": "3.9.12"
  }
 },
 "nbformat": 4,
 "nbformat_minor": 5
}
